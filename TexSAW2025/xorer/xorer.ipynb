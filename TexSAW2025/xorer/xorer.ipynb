{
 "cells": [
  {
   "cell_type": "code",
   "execution_count": 1,
   "id": "68a1d7f0",
   "metadata": {},
   "outputs": [
    {
     "name": "stdout",
     "output_type": "stream",
     "text": [
      "165\n"
     ]
    }
   ],
   "source": [
    "print(0xa5) # 165\n"
   ]
  },
  {
   "cell_type": "code",
   "execution_count": 2,
   "id": "9c805e43",
   "metadata": {},
   "outputs": [
    {
     "name": "stdout",
     "output_type": "stream",
     "text": [
      "n\n",
      "0\n",
      "t\n",
      "_\n",
      "t\n",
      "h\n",
      "3\n",
      "_\n",
      "f\n",
      "l\n",
      "4\n",
      "g\n"
     ]
    }
   ],
   "source": [
    "key=[0]*12\n",
    "\n",
    "key[0] = 203\n",
    "key[1] = 149\n",
    "key[2] = 209\n",
    "key[3] = 250\n",
    "key[4] = 209\n",
    "key[5] = 205\n",
    "key[6] = 150\n",
    "key[7] = 250\n",
    "key[8] = 195\n",
    "key[9] = 201\n",
    "key[10] = 145\n",
    "key[0xb] = 194\n",
    "\n",
    "for i in range(12):\n",
    "    print(chr(key[i]^165))\n",
    "\n",
    "with open(\"flag.txt\", \"w\") as f:\n",
    "    for i in range(12):\n",
    "        f.write(chr(key[i]^165))\n",
    "        #print(chr(key[i]^165), file=f, flush=True)"
   ]
  }
 ],
 "metadata": {
  "kernelspec": {
   "display_name": "Python 3",
   "language": "python",
   "name": "python3"
  },
  "language_info": {
   "codemirror_mode": {
    "name": "ipython",
    "version": 3
   },
   "file_extension": ".py",
   "mimetype": "text/x-python",
   "name": "python",
   "nbconvert_exporter": "python",
   "pygments_lexer": "ipython3",
   "version": "3.13.2"
  }
 },
 "nbformat": 4,
 "nbformat_minor": 5
}
