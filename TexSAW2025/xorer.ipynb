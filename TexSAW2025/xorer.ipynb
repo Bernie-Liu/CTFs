{
 "cells": [
  {
   "cell_type": "code",
   "execution_count": 4,
   "id": "99296d05",
   "metadata": {},
   "outputs": [],
   "source": [
    "var_20=4208039371\n",
    "var_1c=4204187089\n",
    "var_18=3264334275\n",
    "\n",
    "var_10=0"
   ]
  },
  {
   "cell_type": "code",
   "execution_count": 1,
   "id": "1f30f7be",
   "metadata": {},
   "outputs": [],
   "source": [
    "input=0"
   ]
  },
  {
   "cell_type": "code",
   "execution_count": 8,
   "id": "68a1d7f0",
   "metadata": {},
   "outputs": [
    {
     "name": "stdout",
     "output_type": "stream",
     "text": [
      "165\n",
      "133\n"
     ]
    }
   ],
   "source": [
    "print(0xa5) # 165\n",
    "print(32^0xa5)"
   ]
  },
  {
   "cell_type": "code",
   "execution_count": 7,
   "id": "b68e4247",
   "metadata": {},
   "outputs": [
    {
     "name": "stdout",
     "output_type": "stream",
     "text": [
      "4208039371 4208039278\n",
      "4208039372 4208039273\n",
      "4208039373 4208039272\n",
      "4208039374 4208039275\n",
      "4208039375 4208039274\n",
      "4208039376 4208039285\n",
      "4208039377 4208039284\n",
      "4208039378 4208039287\n"
     ]
    }
   ],
   "source": [
    "\n",
    "\n",
    "for i in range(8):\n",
    "    temp=i+var_20\n",
    "    print(temp, temp^0xa5)"
   ]
  },
  {
   "cell_type": "code",
   "execution_count": null,
   "id": "42bdb6cb",
   "metadata": {},
   "outputs": [],
   "source": [
    "while True:\n",
    "    if var_10 > 7: #length is greater than 8\n",
    "        print(input)\n",
    "        break\n",
    "    eax_4=0\n",
    "    eax_4=input[var_10]^0xa5\n",
    "\n",
    "    if eax_4 != (var_10+var_20):\n",
    "        print(\"Wrong password\")\n",
    "        break\n",
    "    var_10+1\n"
   ]
  },
  {
   "cell_type": "code",
   "execution_count": 12,
   "id": "9c805e43",
   "metadata": {},
   "outputs": [
    {
     "name": "stdout",
     "output_type": "stream",
     "text": [
      "n\n",
      "0\n",
      "t\n",
      "_\n",
      "t\n",
      "h\n",
      "3\n",
      "_\n",
      "f\n",
      "l\n",
      "4\n",
      "g\n"
     ]
    }
   ],
   "source": [
    "key=[0]*12\n",
    "\n",
    "key[0] = 203\n",
    "key[1] = 149\n",
    "key[2] = 209\n",
    "key[3] = 250\n",
    "key[4] = 209\n",
    "key[5] = 205\n",
    "key[6] = 150\n",
    "key[7] = 250\n",
    "key[8] = 195\n",
    "key[9] = 201\n",
    "key[10] = 145\n",
    "key[0xb] = 194\n",
    "\n",
    "for i in range(12):\n",
    "    print(chr(key[i]^165))\n",
    "\n",
    "with open(\"flag.txt\", \"w\") as f:\n",
    "    for i in range(12):\n",
    "        f.write(chr(key[i]^165))\n",
    "        #print(chr(key[i]^165), file=f, flush=True)"
   ]
  }
 ],
 "metadata": {
  "kernelspec": {
   "display_name": "Python 3",
   "language": "python",
   "name": "python3"
  },
  "language_info": {
   "codemirror_mode": {
    "name": "ipython",
    "version": 3
   },
   "file_extension": ".py",
   "mimetype": "text/x-python",
   "name": "python",
   "nbconvert_exporter": "python",
   "pygments_lexer": "ipython3",
   "version": "3.13.2"
  }
 },
 "nbformat": 4,
 "nbformat_minor": 5
}
