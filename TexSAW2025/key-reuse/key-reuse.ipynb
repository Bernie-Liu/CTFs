{
 "cells": [
  {
   "cell_type": "markdown",
   "id": "5ff7c979",
   "metadata": {},
   "source": [
    "200d1d2014071e152b1c1e022d2615100617112a0804\n",
    "\n",
    "20000035191102062C1016091334110B1703182A020D"
   ]
  },
  {
   "cell_type": "code",
   "execution_count": 102,
   "id": "1a8ee535",
   "metadata": {},
   "outputs": [
    {
     "name": "stdout",
     "output_type": "stream",
     "text": [
      "TheSupeaNdmcZ]au~dp]s\n",
      "TheSuperDuperSecretKey"
     ]
    }
   ],
   "source": [
    "first=\"20 0d 1d 20 14 07 1e 15 2b 1c 1e 02 2d 26 15 10 06 17 11 2a 08 04\".split()\n",
    "\n",
    "\n",
    "second=\"20 00 00 35 19 11 02 06 2C 10 16 09 13 34 11 0B 17 03 18 2A 02 0D\".split()\n",
    "\n",
    "#assume that texsaw{ is in one of the plaintexts\n",
    "#theflag is in one of the plaintexts\n",
    "\n",
    "firstplain=\"texsaw{\"\n",
    "secondplain=\"theflag\"\n",
    "\n",
    "for i in range(0, len(first)-len(firstplain), len(firstplain)):\n",
    "    for j in range(len(firstplain)):\n",
    "        print(chr(int(first[i+j], 16) ^ ord(firstplain[j])), end=\"\")\n",
    "print(\"\")\n",
    "\n",
    "for i in range(0, len(second), len(secondplain)):\n",
    "    for j in range(len(secondplain)):\n",
    "        if i+j>=len(second):\n",
    "            break\n",
    "        print(chr(int(second[i+j], 16) ^ ord(secondplain[j])), end=\"\")"
   ]
  },
  {
   "cell_type": "code",
   "execution_count": 95,
   "id": "d185c9e7",
   "metadata": {},
   "outputs": [],
   "source": [
    "key=\"TheSuperDuperSecretKey\"\n",
    "\n",
    "with open(\"flag.txt\", \"w\") as f:\n",
    "    for i in range(22):\n",
    "        f.write(chr(ord(key[i])^int(first[i],16)))\n",
    "\n",
    "\n",
    "\n"
   ]
  }
 ],
 "metadata": {
  "kernelspec": {
   "display_name": "Python 3",
   "language": "python",
   "name": "python3"
  },
  "language_info": {
   "codemirror_mode": {
    "name": "ipython",
    "version": 3
   },
   "file_extension": ".py",
   "mimetype": "text/x-python",
   "name": "python",
   "nbconvert_exporter": "python",
   "pygments_lexer": "ipython3",
   "version": "3.13.2"
  }
 },
 "nbformat": 4,
 "nbformat_minor": 5
}
